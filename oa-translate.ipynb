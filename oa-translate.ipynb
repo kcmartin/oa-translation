{
 "cells": [
  {
   "cell_type": "code",
   "execution_count": 1,
   "id": "3744b3a8-8deb-469b-b8f5-fd56292bd58a",
   "metadata": {
    "tags": []
   },
   "outputs": [
    {
     "name": "stdin",
     "output_type": "stream",
     "text": [
      "What country are you interested in for news?  France\n"
     ]
    }
   ],
   "source": [
    "country = input(\"What country are you interested in for news? \")"
   ]
  },
  {
   "cell_type": "code",
   "execution_count": 2,
   "id": "171abe18-a067-4677-a887-787627a85774",
   "metadata": {
    "tags": []
   },
   "outputs": [
    {
     "data": {
      "text/plain": [
       "'France'"
      ]
     },
     "execution_count": 2,
     "metadata": {},
     "output_type": "execute_result"
    }
   ],
   "source": [
    "country"
   ]
  },
  {
   "cell_type": "code",
   "execution_count": 3,
   "id": "3fd5a529-c48a-49a3-b1e2-686b58d79d60",
   "metadata": {
    "tags": []
   },
   "outputs": [],
   "source": [
    "# country support \n",
    "# Spain - Le Monde\n",
    "# France - El Pais"
   ]
  },
  {
   "cell_type": "code",
   "execution_count": 4,
   "id": "bbea0fe6-7aae-4f0d-9dc9-5c879b5b73e4",
   "metadata": {
    "tags": []
   },
   "outputs": [],
   "source": [
    "country_newspapers = {\"Spain\":\"https://elpais.com\",\n",
    "                     \"France\":'https://www.lemonde.fr/'}"
   ]
  },
  {
   "cell_type": "code",
   "execution_count": 5,
   "id": "6ea25fce-1801-4fbf-ae2f-24757ba85554",
   "metadata": {
    "tags": []
   },
   "outputs": [
    {
     "data": {
      "text/plain": [
       "'https://www.lemonde.fr/'"
      ]
     },
     "execution_count": 5,
     "metadata": {},
     "output_type": "execute_result"
    }
   ],
   "source": [
    "country_newspapers[country]"
   ]
  },
  {
   "cell_type": "code",
   "execution_count": 6,
   "id": "ed7897e9-454e-4ba1-9f8f-5745b3c19a72",
   "metadata": {
    "tags": []
   },
   "outputs": [],
   "source": [
    "import requests\n",
    "import bs4"
   ]
  },
  {
   "cell_type": "code",
   "execution_count": 7,
   "id": "b41eb036-0ded-4968-8a28-1947f43ae7b1",
   "metadata": {
    "tags": []
   },
   "outputs": [],
   "source": [
    "url = country_newspapers[country]"
   ]
  },
  {
   "cell_type": "code",
   "execution_count": 8,
   "id": "e8f0ed7f-f4b9-4a9b-98f4-f5c8dd368a08",
   "metadata": {
    "tags": []
   },
   "outputs": [],
   "source": [
    "result = requests.get(url)"
   ]
  },
  {
   "cell_type": "code",
   "execution_count": 12,
   "id": "2c5693ef-40c2-44e3-9a64-1ddfe448e38d",
   "metadata": {
    "tags": []
   },
   "outputs": [],
   "source": [
    "tag = 'article__title'"
   ]
  },
  {
   "cell_type": "code",
   "execution_count": 10,
   "id": "a104abd5-c6c0-4ba9-baaa-06600b014703",
   "metadata": {
    "tags": []
   },
   "outputs": [],
   "source": [
    "soup = bs4.BeautifulSoup(result.text,\"lxml\")"
   ]
  },
  {
   "cell_type": "code",
   "execution_count": 16,
   "id": "93801edb-1621-4c74-8360-deba7781538a",
   "metadata": {
    "tags": []
   },
   "outputs": [
    {
     "name": "stdout",
     "output_type": "stream",
     "text": [
      "Télécoms : nouvelle bataille rangée entre opérateurs\n",
      "Elon Musk et des centaines d’experts réclament une « pause » dans le développement de l’intelligence artificielle\n",
      "Semi-conducteurs : « C’est bien une guerre industrielle et commerciale qui se joue dans le camp occidental »\n"
     ]
    }
   ],
   "source": [
    "for item in soup.select('.article__title')[:3]:\n",
    "    print(item.getText())"
   ]
  },
  {
   "cell_type": "code",
   "execution_count": 20,
   "id": "c87672a7-6064-4fa1-8be1-e91357e8834c",
   "metadata": {},
   "outputs": [],
   "source": [
    "# COUNTRY: (URL,TAG)\n",
    "\n",
    "country_newspapers = {\"Spain\":(\"https://elpais.com\",'.c_t'),\n",
    "                     \"France\":('https://www.lemonde.fr/',\".article__title\")}"
   ]
  },
  {
   "cell_type": "code",
   "execution_count": 21,
   "id": "108001f5-c562-40d1-a265-64160e5448c1",
   "metadata": {
    "tags": []
   },
   "outputs": [],
   "source": [
    "def create_prompt():\n",
    "    # Get Country\n",
    "    country = input(\"What country would you like a news summary for? \")\n",
    "    # Get country's URL newspaper and the HTML Tag for titles\n",
    "    try:\n",
    "        url,tag = country_newspapers[country]\n",
    "    except:\n",
    "        print(\"Sorry that country is not supported!\")\n",
    "        return\n",
    "    \n",
    "    # Scrape the Website\n",
    "    results = requests.get(url)\n",
    "    soup = bs4.BeautifulSoup(results.text,\"lxml\")\n",
    "    \n",
    "    # Grab all the text\n",
    "    country_headlines = ''\n",
    "    for item in soup.select(tag)[:3]:\n",
    "        country_headlines += item.getText()+'\\n'\n",
    "        \n",
    "    prompt = \"Detect the language of the news headlines below, then translate a summary of the headlines to English in a conversational tone:\\n\"\n",
    "    return prompt + country_headlines"
   ]
  },
  {
   "cell_type": "code",
   "execution_count": 27,
   "id": "e1dec31b-5b27-45ff-bca1-7198e3774e8c",
   "metadata": {
    "tags": []
   },
   "outputs": [
    {
     "name": "stdin",
     "output_type": "stream",
     "text": [
      "What country would you like a news summary for?  Spain\n"
     ]
    }
   ],
   "source": [
    "prompt = create_prompt()"
   ]
  },
  {
   "cell_type": "code",
   "execution_count": 28,
   "id": "9e14ff75-64da-4b69-8107-7d06d2adb461",
   "metadata": {
    "tags": []
   },
   "outputs": [
    {
     "name": "stdout",
     "output_type": "stream",
     "text": [
      "Detect the language of the news headlines below, then translate a summary of the headlines to English in a conversational tone:\n",
      "Trump comparecerá ante un juez de Manhattan el próximo martes por el ‘caso Stormy Daniels’ \n",
      "El expresidente responde a la imputación: “Es un ataque a nuestro país”\n",
      "¿Y ahora qué? Estos son los siguientes pasos\n",
      "\n"
     ]
    }
   ],
   "source": [
    "print(prompt)"
   ]
  },
  {
   "cell_type": "code",
   "execution_count": 29,
   "id": "24efe828-bb47-43cb-9b10-3c3f37d1f1f9",
   "metadata": {
    "tags": []
   },
   "outputs": [],
   "source": [
    "import os\n",
    "import openai\n",
    "\n",
    "openai.api_key = os.getenv(\"OPENAI_API_KEY\")"
   ]
  },
  {
   "cell_type": "code",
   "execution_count": 32,
   "id": "d5b4faf6-b929-4d96-ac62-cda4994ca4c5",
   "metadata": {
    "tags": []
   },
   "outputs": [],
   "source": [
    "response = openai.Completion.create(\n",
    "  model=\"text-davinci-003\",\n",
    "  prompt=prompt,\n",
    "  temperature=0.1, # Helps conversational tone a bit, optional\n",
    "  max_tokens=256,\n",
    "  top_p=1.0,\n",
    "  frequency_penalty=0.0,\n",
    "  presence_penalty=0.0\n",
    ")"
   ]
  },
  {
   "cell_type": "code",
   "execution_count": 33,
   "id": "6387c709-b504-4274-9b9a-ff0fefd7fdf8",
   "metadata": {
    "tags": []
   },
   "outputs": [
    {
     "name": "stdout",
     "output_type": "stream",
     "text": [
      "\n",
      "Language: Spanish\n",
      "\n",
      "Translation: Former President Trump will appear before a Manhattan judge next Tuesday for the 'Stormy Daniels case'. Trump responded to the accusation saying \"It's an attack on our country\". What's next? These are the next steps.\n"
     ]
    }
   ],
   "source": [
    "print(response['choices'][0]['text'])"
   ]
  },
  {
   "cell_type": "code",
   "execution_count": null,
   "id": "1b49f7ae-a801-415b-9ca3-20008facf4ed",
   "metadata": {},
   "outputs": [],
   "source": []
  }
 ],
 "metadata": {
  "kernelspec": {
   "display_name": "Python 3 (ipykernel)",
   "language": "python",
   "name": "python3"
  },
  "language_info": {
   "codemirror_mode": {
    "name": "ipython",
    "version": 3
   },
   "file_extension": ".py",
   "mimetype": "text/x-python",
   "name": "python",
   "nbconvert_exporter": "python",
   "pygments_lexer": "ipython3",
   "version": "3.11.2"
  }
 },
 "nbformat": 4,
 "nbformat_minor": 5
}
